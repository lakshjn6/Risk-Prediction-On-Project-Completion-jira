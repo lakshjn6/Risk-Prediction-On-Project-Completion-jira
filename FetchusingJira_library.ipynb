{
 "cells": [
  {
   "cell_type": "code",
   "execution_count": 1,
   "id": "c6965f3e-a373-4f5c-8a71-aea521f5d074",
   "metadata": {},
   "outputs": [],
   "source": [
    "from jira import JIRA"
   ]
  },
  {
   "cell_type": "code",
   "execution_count": 2,
   "id": "14c53162-b614-44d3-99fe-8d9d557267e6",
   "metadata": {},
   "outputs": [],
   "source": [
    "jiraOptions = {'server': \"https://lakshaymittal0611.atlassian.net\"}"
   ]
  },
  {
   "cell_type": "code",
   "execution_count": 3,
   "id": "71d56728-141a-4501-af5e-ec7c3d92d836",
   "metadata": {},
   "outputs": [],
   "source": [
    "jira = JIRA(options=jiraOptions, basic_auth=(\n",
    "    \"lakshaymittal0611@gmail.com\", \"ATATT3xFfGF0n3ZgEVvfk7qSMOEqyvnB39n6AFhvn_QAa5l7xiiIcEll6uYCpfsUvp5GBmtztTWx9pvweNY1sHTx7lhO0UuQgeotgqJeOiNIoCdV9Ag_zldahZYk53gMBKQ1GiDpi6OUb-2-kzUtkjga7NyR9ktB-AfeDzbeQiShIzUQJuyOBqo=C2330995\"))"
   ]
  },
  {
   "cell_type": "code",
   "execution_count": 4,
   "id": "9f63fb03-9a3e-48ef-b698-3176a8ff6023",
   "metadata": {},
   "outputs": [],
   "source": [
    "issue_data = []"
   ]
  },
  {
   "cell_type": "code",
   "execution_count": 5,
   "id": "f0d73b26-4aae-4946-8f8b-f35a16ebb9ca",
   "metadata": {},
   "outputs": [],
   "source": [
    "import pandas as pd\n",
    "for singleIssue in jira.search_issues(jql_str='project = KAN'):\n",
    "   issue_data.append(\n",
    "       {\n",
    "           'Key': singleIssue.key,\n",
    "        'Summary': singleIssue.fields.summary,\n",
    "        'Reporter': singleIssue.fields.reporter.displayName ,\n",
    "            'Assignee': singleIssue.fields.assignee , \n",
    "           'Status': singleIssue.fields.status , \n",
    "           'Due Date': singleIssue.fields.duedate\n",
    "       }\n",
    "   )"
   ]
  },
  {
   "cell_type": "code",
   "execution_count": 6,
   "id": "a77f95b3-7f2d-44dd-9853-7651f5dc1051",
   "metadata": {},
   "outputs": [],
   "source": [
    "df1=pd.DataFrame(issue_data)"
   ]
  },
  {
   "cell_type": "code",
   "execution_count": 7,
   "id": "15bcfcaa-db8a-4146-8f50-2c4c9750db2e",
   "metadata": {},
   "outputs": [
    {
     "data": {
      "text/html": [
       "<div>\n",
       "<style scoped>\n",
       "    .dataframe tbody tr th:only-of-type {\n",
       "        vertical-align: middle;\n",
       "    }\n",
       "\n",
       "    .dataframe tbody tr th {\n",
       "        vertical-align: top;\n",
       "    }\n",
       "\n",
       "    .dataframe thead th {\n",
       "        text-align: right;\n",
       "    }\n",
       "</style>\n",
       "<table border=\"1\" class=\"dataframe\">\n",
       "  <thead>\n",
       "    <tr style=\"text-align: right;\">\n",
       "      <th></th>\n",
       "      <th>Key</th>\n",
       "      <th>Summary</th>\n",
       "      <th>Reporter</th>\n",
       "      <th>Assignee</th>\n",
       "      <th>Status</th>\n",
       "      <th>Due Date</th>\n",
       "    </tr>\n",
       "  </thead>\n",
       "  <tbody>\n",
       "    <tr>\n",
       "      <th>0</th>\n",
       "      <td>KAN-4</td>\n",
       "      <td>footer</td>\n",
       "      <td>Lakshay Mittal</td>\n",
       "      <td>Ansh Khanna</td>\n",
       "      <td>To Do</td>\n",
       "      <td>2025-05-29</td>\n",
       "    </tr>\n",
       "    <tr>\n",
       "      <th>1</th>\n",
       "      <td>KAN-3</td>\n",
       "      <td>scroller</td>\n",
       "      <td>Lakshay Mittal</td>\n",
       "      <td>Ansh Khanna</td>\n",
       "      <td>To Do</td>\n",
       "      <td>2025-05-26</td>\n",
       "    </tr>\n",
       "    <tr>\n",
       "      <th>2</th>\n",
       "      <td>KAN-2</td>\n",
       "      <td>header</td>\n",
       "      <td>Lakshay Mittal</td>\n",
       "      <td>Lakshay Mittal</td>\n",
       "      <td>To Do</td>\n",
       "      <td>2025-05-14</td>\n",
       "    </tr>\n",
       "    <tr>\n",
       "      <th>3</th>\n",
       "      <td>KAN-1</td>\n",
       "      <td>home page</td>\n",
       "      <td>Lakshay Mittal</td>\n",
       "      <td>None</td>\n",
       "      <td>In Progress</td>\n",
       "      <td>2025-05-23</td>\n",
       "    </tr>\n",
       "  </tbody>\n",
       "</table>\n",
       "</div>"
      ],
      "text/plain": [
       "     Key    Summary        Reporter        Assignee       Status    Due Date\n",
       "0  KAN-4     footer  Lakshay Mittal     Ansh Khanna        To Do  2025-05-29\n",
       "1  KAN-3   scroller  Lakshay Mittal     Ansh Khanna        To Do  2025-05-26\n",
       "2  KAN-2     header  Lakshay Mittal  Lakshay Mittal        To Do  2025-05-14\n",
       "3  KAN-1  home page  Lakshay Mittal            None  In Progress  2025-05-23"
      ]
     },
     "execution_count": 7,
     "metadata": {},
     "output_type": "execute_result"
    }
   ],
   "source": [
    "df1"
   ]
  },
  {
   "cell_type": "code",
   "execution_count": 8,
   "id": "7a505fbd-a367-4fc5-b1c4-c1b770e105c8",
   "metadata": {},
   "outputs": [],
   "source": [
    "import time"
   ]
  },
  {
   "cell_type": "code",
   "execution_count": 9,
   "id": "bc01bfcc-317b-4eb5-8940-66dd465be323",
   "metadata": {},
   "outputs": [
    {
     "data": {
      "text/plain": [
       "<module 'time' (built-in)>"
      ]
     },
     "execution_count": 9,
     "metadata": {},
     "output_type": "execute_result"
    }
   ],
   "source": [
    "time "
   ]
  },
  {
   "cell_type": "code",
   "execution_count": 10,
   "id": "fe7e247b-298c-4a6f-9991-fff6bf398e71",
   "metadata": {},
   "outputs": [
    {
     "name": "stdout",
     "output_type": "stream",
     "text": [
      "2025-05-16\n"
     ]
    }
   ],
   "source": [
    "from datetime import date\n",
    "from datetime import datetime\n",
    "today1 = pd.to_datetime(datetime.today().date())\n",
    "\n",
    "today = date.today()\n",
    "print(today)"
   ]
  },
  {
   "cell_type": "code",
   "execution_count": 11,
   "id": "7171f3d4-8b7d-4628-9f4f-96a38cce46a4",
   "metadata": {},
   "outputs": [
    {
     "data": {
      "text/html": [
       "<div>\n",
       "<style scoped>\n",
       "    .dataframe tbody tr th:only-of-type {\n",
       "        vertical-align: middle;\n",
       "    }\n",
       "\n",
       "    .dataframe tbody tr th {\n",
       "        vertical-align: top;\n",
       "    }\n",
       "\n",
       "    .dataframe thead th {\n",
       "        text-align: right;\n",
       "    }\n",
       "</style>\n",
       "<table border=\"1\" class=\"dataframe\">\n",
       "  <thead>\n",
       "    <tr style=\"text-align: right;\">\n",
       "      <th></th>\n",
       "      <th>Key</th>\n",
       "      <th>Summary</th>\n",
       "      <th>Reporter</th>\n",
       "      <th>Assignee</th>\n",
       "      <th>Status</th>\n",
       "      <th>Due Date</th>\n",
       "    </tr>\n",
       "  </thead>\n",
       "  <tbody>\n",
       "    <tr>\n",
       "      <th>count</th>\n",
       "      <td>4</td>\n",
       "      <td>4</td>\n",
       "      <td>4</td>\n",
       "      <td>3</td>\n",
       "      <td>4</td>\n",
       "      <td>4</td>\n",
       "    </tr>\n",
       "    <tr>\n",
       "      <th>unique</th>\n",
       "      <td>4</td>\n",
       "      <td>4</td>\n",
       "      <td>1</td>\n",
       "      <td>2</td>\n",
       "      <td>2</td>\n",
       "      <td>4</td>\n",
       "    </tr>\n",
       "    <tr>\n",
       "      <th>top</th>\n",
       "      <td>KAN-4</td>\n",
       "      <td>footer</td>\n",
       "      <td>Lakshay Mittal</td>\n",
       "      <td>Ansh Khanna</td>\n",
       "      <td>To Do</td>\n",
       "      <td>2025-05-29</td>\n",
       "    </tr>\n",
       "    <tr>\n",
       "      <th>freq</th>\n",
       "      <td>1</td>\n",
       "      <td>1</td>\n",
       "      <td>4</td>\n",
       "      <td>2</td>\n",
       "      <td>3</td>\n",
       "      <td>1</td>\n",
       "    </tr>\n",
       "  </tbody>\n",
       "</table>\n",
       "</div>"
      ],
      "text/plain": [
       "          Key Summary        Reporter     Assignee Status    Due Date\n",
       "count       4       4               4            3      4           4\n",
       "unique      4       4               1            2      2           4\n",
       "top     KAN-4  footer  Lakshay Mittal  Ansh Khanna  To Do  2025-05-29\n",
       "freq        1       1               4            2      3           1"
      ]
     },
     "execution_count": 11,
     "metadata": {},
     "output_type": "execute_result"
    }
   ],
   "source": [
    "df1.describe()"
   ]
  },
  {
   "cell_type": "code",
   "execution_count": 12,
   "id": "f4fdb339-aa04-4f5c-9984-d08d66923e48",
   "metadata": {},
   "outputs": [
    {
     "name": "stdout",
     "output_type": "stream",
     "text": [
      "<class 'pandas.core.frame.DataFrame'>\n",
      "RangeIndex: 4 entries, 0 to 3\n",
      "Data columns (total 6 columns):\n",
      " #   Column    Non-Null Count  Dtype \n",
      "---  ------    --------------  ----- \n",
      " 0   Key       4 non-null      object\n",
      " 1   Summary   4 non-null      object\n",
      " 2   Reporter  4 non-null      object\n",
      " 3   Assignee  3 non-null      object\n",
      " 4   Status    4 non-null      object\n",
      " 5   Due Date  4 non-null      object\n",
      "dtypes: object(6)\n",
      "memory usage: 324.0+ bytes\n"
     ]
    }
   ],
   "source": [
    "df1.info()"
   ]
  },
  {
   "cell_type": "code",
   "execution_count": 13,
   "id": "4cc2a92d-ff42-498b-8eb8-948c01ea2653",
   "metadata": {},
   "outputs": [],
   "source": [
    "df1['Due Date']=pd.to_datetime(df1['Due Date'])"
   ]
  },
  {
   "cell_type": "code",
   "execution_count": 14,
   "id": "bc8a7472-5f7f-4885-a69e-a9245efe7ec4",
   "metadata": {},
   "outputs": [
    {
     "name": "stdout",
     "output_type": "stream",
     "text": [
      "<class 'pandas.core.frame.DataFrame'>\n",
      "RangeIndex: 4 entries, 0 to 3\n",
      "Data columns (total 6 columns):\n",
      " #   Column    Non-Null Count  Dtype         \n",
      "---  ------    --------------  -----         \n",
      " 0   Key       4 non-null      object        \n",
      " 1   Summary   4 non-null      object        \n",
      " 2   Reporter  4 non-null      object        \n",
      " 3   Assignee  3 non-null      object        \n",
      " 4   Status    4 non-null      object        \n",
      " 5   Due Date  4 non-null      datetime64[ns]\n",
      "dtypes: datetime64[ns](1), object(5)\n",
      "memory usage: 324.0+ bytes\n"
     ]
    }
   ],
   "source": [
    "df1.info()"
   ]
  },
  {
   "cell_type": "code",
   "execution_count": 15,
   "id": "9ef20c46-414b-463d-b462-18400af0f65f",
   "metadata": {},
   "outputs": [],
   "source": [
    "df1['days remaining']=(df1['Due Date']-today1).dt.days"
   ]
  },
  {
   "cell_type": "code",
   "execution_count": 16,
   "id": "e539259d-a2e8-4731-884a-aa25fa0c34f5",
   "metadata": {},
   "outputs": [
    {
     "data": {
      "text/html": [
       "<div>\n",
       "<style scoped>\n",
       "    .dataframe tbody tr th:only-of-type {\n",
       "        vertical-align: middle;\n",
       "    }\n",
       "\n",
       "    .dataframe tbody tr th {\n",
       "        vertical-align: top;\n",
       "    }\n",
       "\n",
       "    .dataframe thead th {\n",
       "        text-align: right;\n",
       "    }\n",
       "</style>\n",
       "<table border=\"1\" class=\"dataframe\">\n",
       "  <thead>\n",
       "    <tr style=\"text-align: right;\">\n",
       "      <th></th>\n",
       "      <th>Key</th>\n",
       "      <th>Summary</th>\n",
       "      <th>Reporter</th>\n",
       "      <th>Assignee</th>\n",
       "      <th>Status</th>\n",
       "      <th>Due Date</th>\n",
       "      <th>days remaining</th>\n",
       "    </tr>\n",
       "  </thead>\n",
       "  <tbody>\n",
       "    <tr>\n",
       "      <th>0</th>\n",
       "      <td>KAN-4</td>\n",
       "      <td>footer</td>\n",
       "      <td>Lakshay Mittal</td>\n",
       "      <td>Ansh Khanna</td>\n",
       "      <td>To Do</td>\n",
       "      <td>2025-05-29</td>\n",
       "      <td>13</td>\n",
       "    </tr>\n",
       "    <tr>\n",
       "      <th>1</th>\n",
       "      <td>KAN-3</td>\n",
       "      <td>scroller</td>\n",
       "      <td>Lakshay Mittal</td>\n",
       "      <td>Ansh Khanna</td>\n",
       "      <td>To Do</td>\n",
       "      <td>2025-05-26</td>\n",
       "      <td>10</td>\n",
       "    </tr>\n",
       "    <tr>\n",
       "      <th>2</th>\n",
       "      <td>KAN-2</td>\n",
       "      <td>header</td>\n",
       "      <td>Lakshay Mittal</td>\n",
       "      <td>Lakshay Mittal</td>\n",
       "      <td>To Do</td>\n",
       "      <td>2025-05-14</td>\n",
       "      <td>-2</td>\n",
       "    </tr>\n",
       "    <tr>\n",
       "      <th>3</th>\n",
       "      <td>KAN-1</td>\n",
       "      <td>home page</td>\n",
       "      <td>Lakshay Mittal</td>\n",
       "      <td>None</td>\n",
       "      <td>In Progress</td>\n",
       "      <td>2025-05-23</td>\n",
       "      <td>7</td>\n",
       "    </tr>\n",
       "  </tbody>\n",
       "</table>\n",
       "</div>"
      ],
      "text/plain": [
       "     Key    Summary        Reporter        Assignee       Status   Due Date  \\\n",
       "0  KAN-4     footer  Lakshay Mittal     Ansh Khanna        To Do 2025-05-29   \n",
       "1  KAN-3   scroller  Lakshay Mittal     Ansh Khanna        To Do 2025-05-26   \n",
       "2  KAN-2     header  Lakshay Mittal  Lakshay Mittal        To Do 2025-05-14   \n",
       "3  KAN-1  home page  Lakshay Mittal            None  In Progress 2025-05-23   \n",
       "\n",
       "   days remaining  \n",
       "0              13  \n",
       "1              10  \n",
       "2              -2  \n",
       "3               7  "
      ]
     },
     "execution_count": 16,
     "metadata": {},
     "output_type": "execute_result"
    }
   ],
   "source": [
    "df1"
   ]
  },
  {
   "cell_type": "code",
   "execution_count": 20,
   "id": "b109a768-17b6-43d4-8c08-33122a857673",
   "metadata": {},
   "outputs": [
    {
     "name": "stdout",
     "output_type": "stream",
     "text": [
      "                                  0\n",
      "Key                           KAN-4\n",
      "Summary                      footer\n",
      "Reporter             Lakshay Mittal\n",
      "Assignee                Ansh Khanna\n",
      "Status                        To Do\n",
      "Due Date        2025-05-29 00:00:00\n",
      "days remaining                   13\n",
      "                                  1\n",
      "Key                           KAN-3\n",
      "Summary                    scroller\n",
      "Reporter             Lakshay Mittal\n",
      "Assignee                Ansh Khanna\n",
      "Status                        To Do\n",
      "Due Date        2025-05-26 00:00:00\n",
      "days remaining                   10\n",
      "                                  3\n",
      "Key                           KAN-1\n",
      "Summary                   home page\n",
      "Reporter             Lakshay Mittal\n",
      "Assignee                       None\n",
      "Status                  In Progress\n",
      "Due Date        2025-05-23 00:00:00\n",
      "days remaining                    7\n"
     ]
    }
   ],
   "source": [
    "for index, row in df1.iterrows():\n",
    "    if pd.notna(row['days remaining']) and row['days remaining'] > 0:\n",
    "        print(pd.DataFrame(row))\n",
    "\n"
   ]
  },
  {
   "cell_type": "code",
   "execution_count": null,
   "id": "1373380c-4f11-4110-9c81-de8f574d348f",
   "metadata": {},
   "outputs": [],
   "source": []
  },
  {
   "cell_type": "code",
   "execution_count": null,
   "id": "ed55ec5d-e61a-4ffe-9148-0cf4542af59c",
   "metadata": {},
   "outputs": [],
   "source": []
  },
  {
   "cell_type": "code",
   "execution_count": null,
   "id": "62e6d6da-101c-483f-9784-d30274332345",
   "metadata": {},
   "outputs": [],
   "source": []
  }
 ],
 "metadata": {
  "kernelspec": {
   "display_name": "Python 3 (ipykernel)",
   "language": "python",
   "name": "python3"
  },
  "language_info": {
   "codemirror_mode": {
    "name": "ipython",
    "version": 3
   },
   "file_extension": ".py",
   "mimetype": "text/x-python",
   "name": "python",
   "nbconvert_exporter": "python",
   "pygments_lexer": "ipython3",
   "version": "3.12.4"
  }
 },
 "nbformat": 4,
 "nbformat_minor": 5
}
