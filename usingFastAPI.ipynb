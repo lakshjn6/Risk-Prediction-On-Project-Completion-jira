{
 "cells": [
  {
   "cell_type": "code",
   "execution_count": 1,
   "id": "c9e14a4e-93cd-4ce1-8c2d-4bd3e340ab79",
   "metadata": {},
   "outputs": [],
   "source": [
    "import pandas as pd"
   ]
  },
  {
   "cell_type": "code",
   "execution_count": 2,
   "id": "56bd41fa-82e3-499a-9f5a-586a74c3de0e",
   "metadata": {},
   "outputs": [],
   "source": [
    "import requests"
   ]
  },
  {
   "cell_type": "code",
   "execution_count": 3,
   "id": "1c5e8e40-6a80-4536-9597-1ffe80675c8d",
   "metadata": {},
   "outputs": [],
   "source": [
    "url = f\"https://lakshaymittal0611.atlassian.net/rest/api/2/search\""
   ]
  },
  {
   "cell_type": "code",
   "execution_count": 4,
   "id": "94415f8f-7490-4219-8835-ec77fcf15b70",
   "metadata": {},
   "outputs": [],
   "source": [
    "from requests.auth import HTTPBasicAuth"
   ]
  },
  {
   "cell_type": "code",
   "execution_count": 5,
   "id": "e49779c7-52f5-41eb-96f7-6f5e9f70c756",
   "metadata": {},
   "outputs": [],
   "source": [
    "auth = HTTPBasicAuth(\n",
    "    \"lakshaymittal0611@gmail.com\" , \n",
    "    \"ATATT3xFfGF0n3ZgEVvfk7qSMOEqyvnB39n6AFhvn_QAa5l7xiiIcEll6uYCpfsUvp5GBmtztTWx9pvweNY1sHTx7lhO0UuQgeotgqJeOiNIoCdV9Ag_zldahZYk53gMBKQ1GiDpi6OUb-2-kzUtkjga7NyR9ktB-AfeDzbeQiShIzUQJuyOBqo=C2330995\"\n",
    ")"
   ]
  },
  {
   "cell_type": "code",
   "execution_count": 6,
   "id": "689a62b6-f9bb-4af2-9492-c6080851c020",
   "metadata": {},
   "outputs": [],
   "source": [
    "header={\n",
    "\"Accepts\":\"application/json\"\n",
    "}"
   ]
  },
  {
   "cell_type": "code",
   "execution_count": 7,
   "id": "e32b2ba7-327b-4eb7-923e-4107e53d5bea",
   "metadata": {},
   "outputs": [],
   "source": [
    "import json"
   ]
  },
  {
   "cell_type": "code",
   "execution_count": 8,
   "id": "e4d5b62a-40fe-411b-97cb-944de0bb8ff5",
   "metadata": {},
   "outputs": [],
   "source": [
    "project_key=\"KAN\"\n",
    "params= {\n",
    "     \"jql\": f\"project={project_key}\",\n",
    "    \"fields\": \"summary,status,priority,assignee,created,updated,duedate\"\n",
    "}"
   ]
  },
  {
   "cell_type": "code",
   "execution_count": 9,
   "id": "c42006da-50af-47de-a5e0-c3a1e370a536",
   "metadata": {},
   "outputs": [],
   "source": [
    "response= requests.get(url , headers=header , auth=auth , params=params)"
   ]
  },
  {
   "cell_type": "code",
   "execution_count": 10,
   "id": "d58d0c9a-2fcd-49ea-b117-6496b5b6b653",
   "metadata": {},
   "outputs": [],
   "source": [
    "df1 = pd.DataFrame(response.json())"
   ]
  },
  {
   "cell_type": "code",
   "execution_count": 11,
   "id": "31fc7b26-25e0-463e-bae7-bb21f50b3f06",
   "metadata": {},
   "outputs": [],
   "source": [
    "data = response.json()\n",
    "df = pd.json_normalize(data['issues'])"
   ]
  },
  {
   "cell_type": "code",
   "execution_count": 12,
   "id": "25ea6888-2f52-4622-97d6-a0f1d9302858",
   "metadata": {},
   "outputs": [
    {
     "name": "stdout",
     "output_type": "stream",
     "text": [
      "<class 'pandas.core.frame.DataFrame'>\n",
      "RangeIndex: 4 entries, 0 to 3\n",
      "Data columns (total 34 columns):\n",
      " #   Column                                  Non-Null Count  Dtype  \n",
      "---  ------                                  --------------  -----  \n",
      " 0   expand                                  4 non-null      object \n",
      " 1   id                                      4 non-null      object \n",
      " 2   self                                    4 non-null      object \n",
      " 3   key                                     4 non-null      object \n",
      " 4   fields.summary                          4 non-null      object \n",
      " 5   fields.duedate                          4 non-null      object \n",
      " 6   fields.created                          4 non-null      object \n",
      " 7   fields.assignee.self                    3 non-null      object \n",
      " 8   fields.assignee.accountId               3 non-null      object \n",
      " 9   fields.assignee.avatarUrls.48x48        3 non-null      object \n",
      " 10  fields.assignee.avatarUrls.24x24        3 non-null      object \n",
      " 11  fields.assignee.avatarUrls.16x16        3 non-null      object \n",
      " 12  fields.assignee.avatarUrls.32x32        3 non-null      object \n",
      " 13  fields.assignee.displayName             3 non-null      object \n",
      " 14  fields.assignee.active                  3 non-null      object \n",
      " 15  fields.assignee.timeZone                3 non-null      object \n",
      " 16  fields.assignee.accountType             3 non-null      object \n",
      " 17  fields.priority.self                    4 non-null      object \n",
      " 18  fields.priority.iconUrl                 4 non-null      object \n",
      " 19  fields.priority.name                    4 non-null      object \n",
      " 20  fields.priority.id                      4 non-null      object \n",
      " 21  fields.updated                          4 non-null      object \n",
      " 22  fields.status.self                      4 non-null      object \n",
      " 23  fields.status.description               4 non-null      object \n",
      " 24  fields.status.iconUrl                   4 non-null      object \n",
      " 25  fields.status.name                      4 non-null      object \n",
      " 26  fields.status.id                        4 non-null      object \n",
      " 27  fields.status.statusCategory.self       4 non-null      object \n",
      " 28  fields.status.statusCategory.id         4 non-null      int64  \n",
      " 29  fields.status.statusCategory.key        4 non-null      object \n",
      " 30  fields.status.statusCategory.colorName  4 non-null      object \n",
      " 31  fields.status.statusCategory.name       4 non-null      object \n",
      " 32  fields.assignee.emailAddress            1 non-null      object \n",
      " 33  fields.assignee                         0 non-null      float64\n",
      "dtypes: float64(1), int64(1), object(32)\n",
      "memory usage: 1.2+ KB\n"
     ]
    }
   ],
   "source": [
    "df.info()"
   ]
  },
  {
   "cell_type": "code",
   "execution_count": 13,
   "id": "2936ca63-f473-4168-bb9a-8ac5f97e5d59",
   "metadata": {},
   "outputs": [
    {
     "data": {
      "text/plain": [
       "0       Ansh Khanna\n",
       "1       Ansh Khanna\n",
       "2    Lakshay Mittal\n",
       "3               NaN\n",
       "Name: fields.assignee.displayName, dtype: object"
      ]
     },
     "execution_count": 13,
     "metadata": {},
     "output_type": "execute_result"
    }
   ],
   "source": [
    "df['fields.assignee.displayName']"
   ]
  },
  {
   "cell_type": "code",
   "execution_count": 14,
   "id": "a2e3976e-4537-4015-b0b6-b79bf416c55b",
   "metadata": {},
   "outputs": [],
   "source": [
    "df.dropna(subset={'fields.assignee.displayName'}  , inplace=True)"
   ]
  },
  {
   "cell_type": "code",
   "execution_count": 15,
   "id": "8dc8c1d2-44e8-48f1-881c-8a96d07d27c2",
   "metadata": {},
   "outputs": [],
   "source": [
    "df1=df[['id','key','fields.summary','fields.assignee.displayName','fields.status.name','fields.duedate','fields.created']]"
   ]
  },
  {
   "cell_type": "code",
   "execution_count": 16,
   "id": "f6f07005-feb9-491b-a836-33be1085704f",
   "metadata": {},
   "outputs": [],
   "source": [
    "from datetime import datetime\n",
    "import time"
   ]
  },
  {
   "cell_type": "code",
   "execution_count": 17,
   "id": "df914f13-9fe6-464a-9977-09ce3544cccd",
   "metadata": {},
   "outputs": [
    {
     "name": "stdout",
     "output_type": "stream",
     "text": [
      "2025-05-16 00:00:00\n"
     ]
    }
   ],
   "source": [
    "\n",
    "\n",
    "today1 = pd.to_datetime(datetime.today().date())\n",
    "print(today1)\n"
   ]
  },
  {
   "cell_type": "code",
   "execution_count": 18,
   "id": "06dbe9e6-8ee6-4089-893e-02ab9cfed868",
   "metadata": {},
   "outputs": [
    {
     "data": {
      "text/html": [
       "<div>\n",
       "<style scoped>\n",
       "    .dataframe tbody tr th:only-of-type {\n",
       "        vertical-align: middle;\n",
       "    }\n",
       "\n",
       "    .dataframe tbody tr th {\n",
       "        vertical-align: top;\n",
       "    }\n",
       "\n",
       "    .dataframe thead th {\n",
       "        text-align: right;\n",
       "    }\n",
       "</style>\n",
       "<table border=\"1\" class=\"dataframe\">\n",
       "  <thead>\n",
       "    <tr style=\"text-align: right;\">\n",
       "      <th></th>\n",
       "      <th>id</th>\n",
       "      <th>key</th>\n",
       "      <th>fields.summary</th>\n",
       "      <th>fields.assignee.displayName</th>\n",
       "      <th>fields.status.name</th>\n",
       "      <th>fields.duedate</th>\n",
       "      <th>fields.created</th>\n",
       "    </tr>\n",
       "  </thead>\n",
       "  <tbody>\n",
       "    <tr>\n",
       "      <th>0</th>\n",
       "      <td>10003</td>\n",
       "      <td>KAN-4</td>\n",
       "      <td>footer</td>\n",
       "      <td>Ansh Khanna</td>\n",
       "      <td>To Do</td>\n",
       "      <td>2025-05-29</td>\n",
       "      <td>2025-05-15T17:58:29.399+0530</td>\n",
       "    </tr>\n",
       "    <tr>\n",
       "      <th>1</th>\n",
       "      <td>10002</td>\n",
       "      <td>KAN-3</td>\n",
       "      <td>scroller</td>\n",
       "      <td>Ansh Khanna</td>\n",
       "      <td>To Do</td>\n",
       "      <td>2025-05-26</td>\n",
       "      <td>2025-05-15T17:58:21.319+0530</td>\n",
       "    </tr>\n",
       "    <tr>\n",
       "      <th>2</th>\n",
       "      <td>10001</td>\n",
       "      <td>KAN-2</td>\n",
       "      <td>header</td>\n",
       "      <td>Lakshay Mittal</td>\n",
       "      <td>To Do</td>\n",
       "      <td>2025-05-14</td>\n",
       "      <td>2025-05-15T17:57:56.205+0530</td>\n",
       "    </tr>\n",
       "  </tbody>\n",
       "</table>\n",
       "</div>"
      ],
      "text/plain": [
       "      id    key fields.summary fields.assignee.displayName fields.status.name  \\\n",
       "0  10003  KAN-4         footer                 Ansh Khanna              To Do   \n",
       "1  10002  KAN-3       scroller                 Ansh Khanna              To Do   \n",
       "2  10001  KAN-2         header              Lakshay Mittal              To Do   \n",
       "\n",
       "  fields.duedate                fields.created  \n",
       "0     2025-05-29  2025-05-15T17:58:29.399+0530  \n",
       "1     2025-05-26  2025-05-15T17:58:21.319+0530  \n",
       "2     2025-05-14  2025-05-15T17:57:56.205+0530  "
      ]
     },
     "execution_count": 18,
     "metadata": {},
     "output_type": "execute_result"
    }
   ],
   "source": [
    "df1"
   ]
  },
  {
   "cell_type": "code",
   "execution_count": 19,
   "id": "e2f84719-b7a0-4805-9dc7-a61e66695a26",
   "metadata": {},
   "outputs": [
    {
     "name": "stdout",
     "output_type": "stream",
     "text": [
      "<class 'pandas.core.frame.DataFrame'>\n",
      "Index: 3 entries, 0 to 2\n",
      "Data columns (total 7 columns):\n",
      " #   Column                       Non-Null Count  Dtype \n",
      "---  ------                       --------------  ----- \n",
      " 0   id                           3 non-null      object\n",
      " 1   key                          3 non-null      object\n",
      " 2   fields.summary               3 non-null      object\n",
      " 3   fields.assignee.displayName  3 non-null      object\n",
      " 4   fields.status.name           3 non-null      object\n",
      " 5   fields.duedate               3 non-null      object\n",
      " 6   fields.created               3 non-null      object\n",
      "dtypes: object(7)\n",
      "memory usage: 192.0+ bytes\n"
     ]
    }
   ],
   "source": [
    "df1.info()"
   ]
  },
  {
   "cell_type": "code",
   "execution_count": 20,
   "id": "d7aeeb5d-25e2-4c9a-9152-d20fad34d1fe",
   "metadata": {},
   "outputs": [
    {
     "name": "stderr",
     "output_type": "stream",
     "text": [
      "C:\\Users\\BIT\\AppData\\Local\\Temp\\ipykernel_8888\\1837998493.py:1: SettingWithCopyWarning: \n",
      "A value is trying to be set on a copy of a slice from a DataFrame.\n",
      "Try using .loc[row_indexer,col_indexer] = value instead\n",
      "\n",
      "See the caveats in the documentation: https://pandas.pydata.org/pandas-docs/stable/user_guide/indexing.html#returning-a-view-versus-a-copy\n",
      "  df1['fields.duedate']=pd.to_datetime(df1['fields.duedate'])\n"
     ]
    }
   ],
   "source": [
    "df1['fields.duedate']=pd.to_datetime(df1['fields.duedate'])"
   ]
  },
  {
   "cell_type": "code",
   "execution_count": 21,
   "id": "a50f3480-5c7d-4091-8882-9990b5a6a5f8",
   "metadata": {},
   "outputs": [
    {
     "name": "stdout",
     "output_type": "stream",
     "text": [
      "<class 'pandas.core.frame.DataFrame'>\n",
      "Index: 3 entries, 0 to 2\n",
      "Data columns (total 7 columns):\n",
      " #   Column                       Non-Null Count  Dtype         \n",
      "---  ------                       --------------  -----         \n",
      " 0   id                           3 non-null      object        \n",
      " 1   key                          3 non-null      object        \n",
      " 2   fields.summary               3 non-null      object        \n",
      " 3   fields.assignee.displayName  3 non-null      object        \n",
      " 4   fields.status.name           3 non-null      object        \n",
      " 5   fields.duedate               3 non-null      datetime64[ns]\n",
      " 6   fields.created               3 non-null      object        \n",
      "dtypes: datetime64[ns](1), object(6)\n",
      "memory usage: 192.0+ bytes\n"
     ]
    }
   ],
   "source": [
    "df1.info()"
   ]
  },
  {
   "cell_type": "code",
   "execution_count": 22,
   "id": "729a2460-b35e-42cf-bd3f-75a847a8f898",
   "metadata": {},
   "outputs": [
    {
     "name": "stderr",
     "output_type": "stream",
     "text": [
      "C:\\Users\\BIT\\AppData\\Local\\Temp\\ipykernel_8888\\890102038.py:1: SettingWithCopyWarning: \n",
      "A value is trying to be set on a copy of a slice from a DataFrame.\n",
      "Try using .loc[row_indexer,col_indexer] = value instead\n",
      "\n",
      "See the caveats in the documentation: https://pandas.pydata.org/pandas-docs/stable/user_guide/indexing.html#returning-a-view-versus-a-copy\n",
      "  df1['remaining_days']=(pd.to_datetime(df['fields.duedate'])-today1).dt.days\n"
     ]
    }
   ],
   "source": [
    "df1['remaining_days']=(pd.to_datetime(df['fields.duedate'])-today1).dt.days"
   ]
  },
  {
   "cell_type": "code",
   "execution_count": 23,
   "id": "0ff0d17f-67fe-4151-9e60-810c864ea32f",
   "metadata": {},
   "outputs": [
    {
     "data": {
      "text/html": [
       "<div>\n",
       "<style scoped>\n",
       "    .dataframe tbody tr th:only-of-type {\n",
       "        vertical-align: middle;\n",
       "    }\n",
       "\n",
       "    .dataframe tbody tr th {\n",
       "        vertical-align: top;\n",
       "    }\n",
       "\n",
       "    .dataframe thead th {\n",
       "        text-align: right;\n",
       "    }\n",
       "</style>\n",
       "<table border=\"1\" class=\"dataframe\">\n",
       "  <thead>\n",
       "    <tr style=\"text-align: right;\">\n",
       "      <th></th>\n",
       "      <th>id</th>\n",
       "      <th>key</th>\n",
       "      <th>fields.summary</th>\n",
       "      <th>fields.assignee.displayName</th>\n",
       "      <th>fields.status.name</th>\n",
       "      <th>fields.duedate</th>\n",
       "      <th>fields.created</th>\n",
       "      <th>remaining_days</th>\n",
       "    </tr>\n",
       "  </thead>\n",
       "  <tbody>\n",
       "    <tr>\n",
       "      <th>0</th>\n",
       "      <td>10003</td>\n",
       "      <td>KAN-4</td>\n",
       "      <td>footer</td>\n",
       "      <td>Ansh Khanna</td>\n",
       "      <td>To Do</td>\n",
       "      <td>2025-05-29</td>\n",
       "      <td>2025-05-15T17:58:29.399+0530</td>\n",
       "      <td>13</td>\n",
       "    </tr>\n",
       "    <tr>\n",
       "      <th>1</th>\n",
       "      <td>10002</td>\n",
       "      <td>KAN-3</td>\n",
       "      <td>scroller</td>\n",
       "      <td>Ansh Khanna</td>\n",
       "      <td>To Do</td>\n",
       "      <td>2025-05-26</td>\n",
       "      <td>2025-05-15T17:58:21.319+0530</td>\n",
       "      <td>10</td>\n",
       "    </tr>\n",
       "    <tr>\n",
       "      <th>2</th>\n",
       "      <td>10001</td>\n",
       "      <td>KAN-2</td>\n",
       "      <td>header</td>\n",
       "      <td>Lakshay Mittal</td>\n",
       "      <td>To Do</td>\n",
       "      <td>2025-05-14</td>\n",
       "      <td>2025-05-15T17:57:56.205+0530</td>\n",
       "      <td>-2</td>\n",
       "    </tr>\n",
       "  </tbody>\n",
       "</table>\n",
       "</div>"
      ],
      "text/plain": [
       "      id    key fields.summary fields.assignee.displayName fields.status.name  \\\n",
       "0  10003  KAN-4         footer                 Ansh Khanna              To Do   \n",
       "1  10002  KAN-3       scroller                 Ansh Khanna              To Do   \n",
       "2  10001  KAN-2         header              Lakshay Mittal              To Do   \n",
       "\n",
       "  fields.duedate                fields.created  remaining_days  \n",
       "0     2025-05-29  2025-05-15T17:58:29.399+0530              13  \n",
       "1     2025-05-26  2025-05-15T17:58:21.319+0530              10  \n",
       "2     2025-05-14  2025-05-15T17:57:56.205+0530              -2  "
      ]
     },
     "execution_count": 23,
     "metadata": {},
     "output_type": "execute_result"
    }
   ],
   "source": [
    "df1"
   ]
  },
  {
   "cell_type": "code",
   "execution_count": 24,
   "id": "c4007911-3318-40f3-87ef-691aef9a27f1",
   "metadata": {},
   "outputs": [
    {
     "data": {
      "text/html": [
       "<div>\n",
       "<style scoped>\n",
       "    .dataframe tbody tr th:only-of-type {\n",
       "        vertical-align: middle;\n",
       "    }\n",
       "\n",
       "    .dataframe tbody tr th {\n",
       "        vertical-align: top;\n",
       "    }\n",
       "\n",
       "    .dataframe thead th {\n",
       "        text-align: right;\n",
       "    }\n",
       "</style>\n",
       "<table border=\"1\" class=\"dataframe\">\n",
       "  <thead>\n",
       "    <tr style=\"text-align: right;\">\n",
       "      <th></th>\n",
       "      <th>id</th>\n",
       "      <th>key</th>\n",
       "      <th>fields.summary</th>\n",
       "      <th>fields.assignee.displayName</th>\n",
       "      <th>fields.status.name</th>\n",
       "      <th>fields.duedate</th>\n",
       "      <th>fields.created</th>\n",
       "      <th>remaining_days</th>\n",
       "    </tr>\n",
       "  </thead>\n",
       "  <tbody>\n",
       "    <tr>\n",
       "      <th>0</th>\n",
       "      <td>10003</td>\n",
       "      <td>KAN-4</td>\n",
       "      <td>footer</td>\n",
       "      <td>Ansh Khanna</td>\n",
       "      <td>To Do</td>\n",
       "      <td>2025-05-29</td>\n",
       "      <td>2025-05-15T17:58:29.399+0530</td>\n",
       "      <td>13</td>\n",
       "    </tr>\n",
       "    <tr>\n",
       "      <th>1</th>\n",
       "      <td>10002</td>\n",
       "      <td>KAN-3</td>\n",
       "      <td>scroller</td>\n",
       "      <td>Ansh Khanna</td>\n",
       "      <td>To Do</td>\n",
       "      <td>2025-05-26</td>\n",
       "      <td>2025-05-15T17:58:21.319+0530</td>\n",
       "      <td>10</td>\n",
       "    </tr>\n",
       "    <tr>\n",
       "      <th>2</th>\n",
       "      <td>10001</td>\n",
       "      <td>KAN-2</td>\n",
       "      <td>header</td>\n",
       "      <td>Lakshay Mittal</td>\n",
       "      <td>To Do</td>\n",
       "      <td>2025-05-14</td>\n",
       "      <td>2025-05-15T17:57:56.205+0530</td>\n",
       "      <td>-2</td>\n",
       "    </tr>\n",
       "  </tbody>\n",
       "</table>\n",
       "</div>"
      ],
      "text/plain": [
       "      id    key fields.summary fields.assignee.displayName fields.status.name  \\\n",
       "0  10003  KAN-4         footer                 Ansh Khanna              To Do   \n",
       "1  10002  KAN-3       scroller                 Ansh Khanna              To Do   \n",
       "2  10001  KAN-2         header              Lakshay Mittal              To Do   \n",
       "\n",
       "  fields.duedate                fields.created  remaining_days  \n",
       "0     2025-05-29  2025-05-15T17:58:29.399+0530              13  \n",
       "1     2025-05-26  2025-05-15T17:58:21.319+0530              10  \n",
       "2     2025-05-14  2025-05-15T17:57:56.205+0530              -2  "
      ]
     },
     "execution_count": 24,
     "metadata": {},
     "output_type": "execute_result"
    }
   ],
   "source": [
    "df1"
   ]
  },
  {
   "cell_type": "markdown",
   "id": "effc374d-6753-4490-a92b-a1cbe94f35a7",
   "metadata": {},
   "source": [
    "Return the data frame that are not completed till while due date is gone "
   ]
  },
  {
   "cell_type": "code",
   "execution_count": 26,
   "id": "1ec2f83b-fa7d-4c05-a937-e4fe7c3af5a5",
   "metadata": {},
   "outputs": [
    {
     "name": "stdout",
     "output_type": "stream",
     "text": [
      "id                                                    10001\n",
      "key                                                   KAN-2\n",
      "fields.summary                                       header\n",
      "fields.assignee.displayName                  Lakshay Mittal\n",
      "fields.status.name                                    To Do\n",
      "fields.duedate                          2025-05-14 00:00:00\n",
      "fields.created                 2025-05-15T17:57:56.205+0530\n",
      "remaining_days                                           -2\n",
      "Name: 2, dtype: object\n"
     ]
    }
   ],
   "source": [
    "for i, col in df1.iterrows():\n",
    "    if int(col['remaining_days']) < 0:\n",
    "        print(col)\n"
   ]
  },
  {
   "cell_type": "code",
   "execution_count": 27,
   "id": "31f3b1c7-2947-4f07-ae25-432a54e1f65f",
   "metadata": {},
   "outputs": [
    {
     "data": {
      "text/html": [
       "<div>\n",
       "<style scoped>\n",
       "    .dataframe tbody tr th:only-of-type {\n",
       "        vertical-align: middle;\n",
       "    }\n",
       "\n",
       "    .dataframe tbody tr th {\n",
       "        vertical-align: top;\n",
       "    }\n",
       "\n",
       "    .dataframe thead th {\n",
       "        text-align: right;\n",
       "    }\n",
       "</style>\n",
       "<table border=\"1\" class=\"dataframe\">\n",
       "  <thead>\n",
       "    <tr style=\"text-align: right;\">\n",
       "      <th></th>\n",
       "      <th>id</th>\n",
       "      <th>key</th>\n",
       "      <th>fields.summary</th>\n",
       "      <th>fields.assignee.displayName</th>\n",
       "      <th>fields.status.name</th>\n",
       "      <th>fields.duedate</th>\n",
       "      <th>fields.created</th>\n",
       "      <th>remaining_days</th>\n",
       "    </tr>\n",
       "  </thead>\n",
       "  <tbody>\n",
       "    <tr>\n",
       "      <th>0</th>\n",
       "      <td>10003</td>\n",
       "      <td>KAN-4</td>\n",
       "      <td>footer</td>\n",
       "      <td>Ansh Khanna</td>\n",
       "      <td>To Do</td>\n",
       "      <td>2025-05-29</td>\n",
       "      <td>2025-05-15T17:58:29.399+0530</td>\n",
       "      <td>13</td>\n",
       "    </tr>\n",
       "    <tr>\n",
       "      <th>1</th>\n",
       "      <td>10002</td>\n",
       "      <td>KAN-3</td>\n",
       "      <td>scroller</td>\n",
       "      <td>Ansh Khanna</td>\n",
       "      <td>To Do</td>\n",
       "      <td>2025-05-26</td>\n",
       "      <td>2025-05-15T17:58:21.319+0530</td>\n",
       "      <td>10</td>\n",
       "    </tr>\n",
       "    <tr>\n",
       "      <th>2</th>\n",
       "      <td>10001</td>\n",
       "      <td>KAN-2</td>\n",
       "      <td>header</td>\n",
       "      <td>Lakshay Mittal</td>\n",
       "      <td>To Do</td>\n",
       "      <td>2025-05-14</td>\n",
       "      <td>2025-05-15T17:57:56.205+0530</td>\n",
       "      <td>-2</td>\n",
       "    </tr>\n",
       "  </tbody>\n",
       "</table>\n",
       "</div>"
      ],
      "text/plain": [
       "      id    key fields.summary fields.assignee.displayName fields.status.name  \\\n",
       "0  10003  KAN-4         footer                 Ansh Khanna              To Do   \n",
       "1  10002  KAN-3       scroller                 Ansh Khanna              To Do   \n",
       "2  10001  KAN-2         header              Lakshay Mittal              To Do   \n",
       "\n",
       "  fields.duedate                fields.created  remaining_days  \n",
       "0     2025-05-29  2025-05-15T17:58:29.399+0530              13  \n",
       "1     2025-05-26  2025-05-15T17:58:21.319+0530              10  \n",
       "2     2025-05-14  2025-05-15T17:57:56.205+0530              -2  "
      ]
     },
     "execution_count": 27,
     "metadata": {},
     "output_type": "execute_result"
    }
   ],
   "source": [
    "df1"
   ]
  },
  {
   "cell_type": "code",
   "execution_count": 28,
   "id": "683e882d-3a32-4600-8123-1c0ee82b9f93",
   "metadata": {},
   "outputs": [
    {
     "data": {
      "text/plain": [
       "['id',\n",
       " 'key',\n",
       " 'fields.summary',\n",
       " 'fields.assignee.displayName',\n",
       " 'fields.status.name',\n",
       " 'fields.duedate',\n",
       " 'fields.created',\n",
       " 'remaining days']"
      ]
     },
     "execution_count": 28,
     "metadata": {},
     "output_type": "execute_result"
    }
   ],
   "source": [
    "['id', 'key', 'fields.summary', 'fields.assignee.displayName', 'fields.status.name', 'fields.duedate', 'fields.created', 'remaining days']\n"
   ]
  },
  {
   "cell_type": "code",
   "execution_count": null,
   "id": "962bab20-1c08-427c-ade4-ec6542f48ac5",
   "metadata": {},
   "outputs": [],
   "source": []
  }
 ],
 "metadata": {
  "kernelspec": {
   "display_name": "Python 3 (ipykernel)",
   "language": "python",
   "name": "python3"
  },
  "language_info": {
   "codemirror_mode": {
    "name": "ipython",
    "version": 3
   },
   "file_extension": ".py",
   "mimetype": "text/x-python",
   "name": "python",
   "nbconvert_exporter": "python",
   "pygments_lexer": "ipython3",
   "version": "3.12.4"
  }
 },
 "nbformat": 4,
 "nbformat_minor": 5
}
